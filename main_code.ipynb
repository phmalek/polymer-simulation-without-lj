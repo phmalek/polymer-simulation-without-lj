{
 "cells": [
  {
   "cell_type": "markdown",
   "metadata": {},
   "source": [
    "This Python-code runs the Python program 'run_polymer_simulation_once.ipynb' many times to obtain better statistics. The quantities - written in 'quantities.dat' - are summed during each simulation run. Finally, the quantities are divided by number of simulation run to obtain an average."
   ]
  },
  {
   "cell_type": "markdown",
   "metadata": {},
   "source": [
    "# Import of libraries "
   ]
  },
  {
   "cell_type": "code",
   "execution_count": 1,
   "metadata": {},
   "outputs": [],
   "source": [
    "import math\n",
    "import matplotlib.pyplot as plt\n",
    "import numpy as np\n",
    "import os\n",
    "from scipy.optimize import curve_fit\n",
    "import datetime"
   ]
  },
  {
   "cell_type": "markdown",
   "metadata": {},
   "source": [
    "# Set datetime for subfolder to save results"
   ]
  },
  {
   "cell_type": "code",
   "execution_count": 2,
   "metadata": {},
   "outputs": [],
   "source": [
    "#set current date and time\n",
    "DATETIME = datetime.datetime.now()\n",
    "current_datetime = (str(DATETIME.year)+str(DATETIME.month)+str(DATETIME.day)+\n",
    "                   str(DATETIME.hour)+str(DATETIME.minute)+str(DATETIME.second))"
   ]
  },
  {
   "cell_type": "markdown",
   "metadata": {},
   "source": [
    "# Initialization and calculation of basic parameters"
   ]
  },
  {
   "cell_type": "markdown",
   "metadata": {},
   "source": [
    "Initial parameters (fixed values for all simulation) are defined in the Initialization. Then, they are written to another python-file, 'init_parameters.ipynb'. The program 'run_polymer_simulation_once.ipynb' load this initial parameters from the file 'init_parameters.py' every time it is called. Attention: This extra file 'init_parameters.ipynb' is needed because a python program cannot load variables from this file ('main_code.ipynb') while it is run."
   ]
  },
  {
   "cell_type": "code",
   "execution_count": 3,
   "metadata": {},
   "outputs": [],
   "source": [
    "#define number of polymers segments (monomers)\n",
    "Monomers = 50\n",
    "\n",
    "#define number of bonds between segments\n",
    "Bonds = Monomers - 1\n",
    "\n",
    "#define spring constant (Rouse model) for bonds between segments in units energy/distance^2\n",
    "k = 1\n",
    "\n",
    "#define number of passive particles\n",
    "n_passive_particles = 0\n",
    "\n",
    "#define number of active particles\n",
    "n_active_particles = 0\n",
    "\n",
    "#define drag-coefficient constant gamma\n",
    "gamma = 1\n",
    "\n",
    "#define rest distance between segments\n",
    "r0 = 0\n",
    "\n",
    "#define temperature in units of kT\n",
    "kT = 1\n",
    "\n",
    "#define integration step time\n",
    "dt = 0.01\n",
    "\n",
    "#define number of integration steps\n",
    "integration_steps = 100000\n",
    "\n",
    "#define numer of point for graphical representation and used for fits (number of callbacks)\n",
    "number_of_points = 1000"
   ]
  },
  {
   "cell_type": "code",
   "execution_count": 4,
   "metadata": {},
   "outputs": [],
   "source": [
    "#set epsilon and sigma for Lennard_jones potential between different particles\n",
    "lj_epsilon_AA = 0\n",
    "lj_sigma_AA = 0\n",
    "lj_epsilon_AB = 0\n",
    "lj_sigma_AB = 0\n",
    "lj_epsilon_BB = 0\n",
    "lj_sigma_BB = 0\n",
    "\n",
    "#set cut-off radius for potential between two particles\n",
    "r_cut = 2.5"
   ]
  },
  {
   "cell_type": "code",
   "execution_count": 5,
   "metadata": {},
   "outputs": [],
   "source": [
    "#set number of executions of one entire simulation\n",
    "number_of_simulations = 1"
   ]
  },
  {
   "cell_type": "code",
   "execution_count": 6,
   "metadata": {},
   "outputs": [],
   "source": [
    "#calculate Kuhn length b\n",
    "Kuhn_length_b = math.sqrt(3*kT/k)\n",
    "\n",
    "#calculate Rouse time (Rouse mode = 1)\n",
    "tau_rouse_theory = gamma*Monomers**2*Kuhn_length_b**2 / (3*np.pi**2*kT)\n",
    "\n",
    "#define maximum time\n",
    "t_max = dt*integration_steps"
   ]
  },
  {
   "cell_type": "markdown",
   "metadata": {},
   "source": [
    "Create file 'initial_values.py' and write the set parameters into it; this file is called every time when the simulation 'run_polymer_simulation_once.py' starts."
   ]
  },
  {
   "cell_type": "code",
   "execution_count": 7,
   "metadata": {},
   "outputs": [],
   "source": [
    "file_init_parameters = open('initial_parameters.py', 'w')\n",
    "\n",
    "init_parameters = (\n",
    "\n",
    "    \"current_datetime = \"       +    current_datetime+\"\\n\"      +\n",
    "    \"Monomers = \"               +str(Monomers)+\"\\n\"             +\n",
    "    \"Bonds = \"                  +str(Bonds)+\"\\n\"                +\n",
    "    \"k = \"                      +str(k)+\"\\n\"                    +\n",
    "    \"n_passive_particles = \"    +str(n_passive_particles)+\"\\n\"  +\n",
    "    \"n_active_particles = \"     +str(n_active_particles)+\"\\n\"   +\n",
    "    \"lj_epsilon_AA = \"          +str(lj_epsilon_AA)+\"\\n\"        +\n",
    "    \"lj_sigma_AA = \"            +str(lj_sigma_AA)+\"\\n\"          +\n",
    "    \"lj_epsilon_AB = \"          +str(lj_epsilon_AB)+\"\\n\"        +\n",
    "    \"lj_sigma_AB = \"            +str(lj_sigma_AB)+\"\\n\"          +\n",
    "    \"lj_epsilon_BB = \"          +str(lj_epsilon_BB)+\"\\n\"        +\n",
    "    \"lj_sigma_BB = \"            +str(lj_sigma_BB)+\"\\n\"          +\n",
    "    \"r_cut = \"                  +str(r_cut)+\"\\n\"                +\n",
    "    \"gamma = \"                  +str(gamma)+\"\\n\"                +\n",
    "    \"r0 = \"                     +str(r0)+\"\\n\"                   +\n",
    "    \"kT = \"                     +str(kT)+\"\\n\"                   +\n",
    "    \"dt = \"                     +str(dt)+\"\\n\"                   +\n",
    "    \"integration_steps = \"      +str(integration_steps)+\"\\n\"    +\n",
    "    \"number_of_points = \"       +str(number_of_points)+\"\\n\"     +\n",
    "    \"number_of_simulations = \"  +str(number_of_simulations)+\"\\n\"+\n",
    "    \"Kuhn_length_b = \"          +str(Kuhn_length_b)+\"\\n\"        +\n",
    "    \"tau_rouse_theory = \"       +str(tau_rouse_theory)+\"\\n\"     +\n",
    "    \"t_max = \"                  +str(t_max))\n",
    "\n",
    "file_init_parameters.write(init_parameters)\n",
    "\n",
    "file_init_parameters.close()\n"
   ]
  },
  {
   "cell_type": "markdown",
   "metadata": {},
   "source": [
    "# Create empty file to safe simulated quantities and set every value to 0"
   ]
  },
  {
   "cell_type": "code",
   "execution_count": 8,
   "metadata": {},
   "outputs": [],
   "source": [
    "#create empty file to called 'quantities.dat' to safe the simulated quantities\n",
    "quantities_file = open('quantities.dat', 'w')\n",
    "\n",
    "for integration_step in range (0, int(integration_steps) + 2):\n",
    "        \n",
    "    #set all quantities to 0\n",
    "    quantities_file.write('0\t0\t0\t0\\n')\n",
    "\n",
    "#close the file\n",
    "quantities_file.close()\n"
   ]
  },
  {
   "cell_type": "markdown",
   "metadata": {},
   "source": [
    "# Create folder 'results/current datetime' to save the results"
   ]
  },
  {
   "cell_type": "code",
   "execution_count": 9,
   "metadata": {},
   "outputs": [],
   "source": [
    "#create a folder for results (if not exists already)\n",
    "try:\n",
    "    os.makedirs(\"results\")\n",
    "\n",
    "except FileExistsError:\n",
    "    #directory already exists\n",
    "    pass\n",
    "\n",
    "#go into 'results'\n",
    "os.chdir(\"results\")\n",
    "\n",
    "#make directory and name it 'current_datetime'\n",
    "os.makedirs(current_datetime)\n",
    "\n",
    "#go back to main directory\n",
    "os.chdir(\"..\")"
   ]
  },
  {
   "cell_type": "markdown",
   "metadata": {},
   "source": [
    "# Run the entire simulation many times (using for-loop)"
   ]
  },
  {
   "cell_type": "code",
   "execution_count": 10,
   "metadata": {},
   "outputs": [
    {
     "name": "stdout",
     "output_type": "stream",
     "text": [
      "Step 1 out of 1\n",
      "HOOMD-blue 2.6.0 DOUBLE HPMC_MIXED TBB SSE SSE2 SSE3 \n",
      "Compiled: 05/29/2019\n",
      "Copyright (c) 2009-2019 The Regents of the University of Michigan.\n",
      "-----\n",
      "You are using HOOMD-blue. Please cite the following:\n",
      "* J A Anderson, C D Lorenz, and A Travesset. \"General purpose molecular dynamics\n",
      "  simulations fully implemented on graphics processing units\", Journal of\n",
      "  Computational Physics 227 (2008) 5342--5359\n",
      "* J Glaser, T D Nguyen, J A Anderson, P Liu, F Spiga, J A Millan, D C Morse, and\n",
      "  S C Glotzer. \"Strong scaling of general-purpose molecular dynamics simulations\n",
      "  on GPUs\", Computer Physics Communications 192 (2015) 97--107\n",
      "-----\n",
      "HOOMD-blue is running on the CPU\n",
      "notice(2): Group \"all\" created containing 50 particles\n",
      "notice(2): integrate.langevin/bd is using specified gamma values\n",
      "** starting run **\n",
      "Time 00:00:02 | Step 100000 / 100000 | TPS 37892.9 | ETA 00:00:00\n",
      "Average TPS: 37887.4\n",
      "---------\n",
      "** run complete **\n"
     ]
    }
   ],
   "source": [
    "#run the entire simulation 'run_polymer_simulation_once.ipynb' many times\n",
    "for run in range(number_of_simulations):\n",
    "    \n",
    "    #execute entire simulation\n",
    "    print (\"Step \"+str(run+1)+\" out of \"+str(number_of_simulations))\n",
    "    %run run_polymer_simulation_once.ipynb"
   ]
  },
  {
   "cell_type": "markdown",
   "metadata": {},
   "source": [
    "# Average quantities and save them in subfolder"
   ]
  },
  {
   "cell_type": "markdown",
   "metadata": {},
   "source": [
    "As mentioned above, in every simulation run results (regarding each quantity and each timestep) are summed. Here, this sums are divided by the number of simulation to obtain an average (regarding each quantity and each timestep) and save into a dat-file in the folder 'results/current_datetime'."
   ]
  },
  {
   "cell_type": "code",
   "execution_count": 11,
   "metadata": {},
   "outputs": [],
   "source": [
    "#open quantities file\n",
    "quantities_file = open('quantities.dat')\n",
    "\n",
    "#load all lines, begin with second line (1.line is description)\n",
    "all_lines = quantities_file.readlines()[0:]\n",
    "\n",
    "#close quantities file\n",
    "quantities_file.close()"
   ]
  },
  {
   "cell_type": "code",
   "execution_count": 12,
   "metadata": {},
   "outputs": [],
   "source": [
    "#change into 'results'\n",
    "os.chdir(\"results\")\n",
    "\n",
    "#go into directory: current_datetime (everything will be saved there)\n",
    "os.chdir(current_datetime)"
   ]
  },
  {
   "cell_type": "code",
   "execution_count": 13,
   "metadata": {},
   "outputs": [],
   "source": [
    "#create also file with initial parameters\n",
    "\n",
    "file_init_parameters = open('initial_parameters.py', 'w')\n",
    "file_init_parameters.write(init_parameters)\n",
    "file_init_parameters.close()"
   ]
  },
  {
   "cell_type": "code",
   "execution_count": 14,
   "metadata": {},
   "outputs": [],
   "source": [
    "#to save averaged quantities in current_datetime folder, create file\n",
    "averaged_quantities = open('averaged_quantities.dat', 'w')\n",
    "\n",
    "#write header into file\n",
    "averaged_quantities.write(\"#time\tsq_end_to_end_distance\tsq_distance_of_cm\tauto_corr_ee_vector\\n\")\n",
    "\n",
    "#fill file with averaged quantities; start from second line (range(1 --> len(all_lines))\n",
    "for line in range(1, len(all_lines)):\n",
    "\n",
    "    \"\"\"Divide all quantities by number of simulation and save them into file.\"\"\"\n",
    "        \n",
    "    averaged_quantities.write(str(float(all_lines[line].split('\t')[0])*dt)+\"\t\"+\n",
    "                              str(float(all_lines[line].split('\t')[1]) /\n",
    "                                number_of_simulations)+\"\t\"+\n",
    "                              str(float(all_lines[line].split('\t')[2]) /\n",
    "                                number_of_simulations)+\"\t\"+\n",
    "                              str(float(all_lines[line].split('\t')[3]) /\n",
    "                                number_of_simulations)+\"\\n\")\n",
    "\n",
    "#close the file\n",
    "averaged_quantities.close()"
   ]
  },
  {
   "cell_type": "code",
   "execution_count": 15,
   "metadata": {},
   "outputs": [],
   "source": [
    "#go back to main directory with simulation codes\n",
    "os.chdir(\"../..\")"
   ]
  },
  {
   "cell_type": "markdown",
   "metadata": {},
   "source": [
    "# Open any folder (name=datetime) and create plots from data"
   ]
  },
  {
   "cell_type": "markdown",
   "metadata": {},
   "source": [
    "In this section, the data (arrays) are transformed into numpy arrays. Data and fits are plotted (Log-scales are made in this section); plots are saved. Results are saved in subdirectories using current date and time; the simulation conditions are there explicitly described by an additional .dat-file."
   ]
  },
  {
   "cell_type": "code",
   "execution_count": 16,
   "metadata": {},
   "outputs": [],
   "source": [
    "#make subdirectory in 'results' with current date time\n",
    "os.chdir(\"results\")\n",
    "\n",
    "#go into directory: current_datetime or any other folder (with other current datetime)\n",
    "os.chdir(current_datetime)"
   ]
  },
  {
   "cell_type": "code",
   "execution_count": 17,
   "metadata": {},
   "outputs": [],
   "source": [
    "#load parameters\n",
    "import initial_parameters\n",
    "\n",
    "Monomers = initial_parameters.Monomers\n",
    "gamma = initial_parameters.gamma\n",
    "Bonds = initial_parameters.Bonds\n",
    "Kuhn_length_b = initial_parameters.Kuhn_length_b\n",
    "tau_rouse_theory = initial_parameters.tau_rouse_theory"
   ]
  },
  {
   "cell_type": "code",
   "execution_count": 18,
   "metadata": {},
   "outputs": [],
   "source": [
    "#open quantities file\n",
    "averaged_quantities = open('averaged_quantities.dat')\n",
    "\n",
    "#load all lines from file with averaged quantites\n",
    "all_lines = averaged_quantities.readlines()[0:]\n",
    "\n",
    "#create lists for quantities for graphical representation (plots)\n",
    "list_of_times = []\n",
    "list_of_sq_end_to_end_distances = []\n",
    "list_of_sq_distance_of_cm = []\n",
    "list_of_auto_corr_ee_vector = []\n",
    "\n",
    "#start from second line, first line is description\n",
    "for line in range(1, len(all_lines)):\n",
    "\n",
    "    #append time to list (time = callback-period * dt)\n",
    "    list_of_times.append((float(all_lines[line].split('\t')[0])))\n",
    "\n",
    "    #squared end-to-end distance\n",
    "    list_of_sq_end_to_end_distances.append(\n",
    "        float(all_lines[line].split('\t')[1]))\n",
    "\n",
    "    #distance of centre of mass from origin\n",
    "    list_of_sq_distance_of_cm.append(\n",
    "        float(all_lines[line].split('\t')[2]))\n",
    "\n",
    "    #auto-correlation of end-to-end vector\n",
    "    list_of_auto_corr_ee_vector.append(\n",
    "        float(all_lines[line].split('\t')[3]))\n",
    "\n",
    "#close the file\n",
    "averaged_quantities.close()"
   ]
  },
  {
   "cell_type": "code",
   "execution_count": 19,
   "metadata": {},
   "outputs": [
    {
     "data": {
      "text/plain": [
       "433"
      ]
     },
     "execution_count": 19,
     "metadata": {},
     "output_type": "execute_result"
    }
   ],
   "source": [
    "#create file to safe initial parameters and results\n",
    "results_dat = open('results.dat', 'w')\n",
    "\n",
    "#write initial parameters\n",
    "results_dat.write(init_parameters+\"\\n\\n\"+\n",
    "                                    \"results:\\n\")"
   ]
  },
  {
   "cell_type": "code",
   "execution_count": 20,
   "metadata": {},
   "outputs": [],
   "source": [
    "#set plot parameters\n",
    "\n",
    "#change figure size\n",
    "figure_size = plt.rcParams[\"figure.figsize\"]\n",
    "figure_size[0] = 9\n",
    "figure_size[1] = 6\n",
    "plt.rcParams['figure.figsize'] = figure_size\n",
    "\n",
    "#set line width\n",
    "plt.rcParams['lines.linewidth'] = 4\n",
    "\n",
    "#set label size in the plots\n",
    "plt.rcParams.update({'font.size': 18})"
   ]
  },
  {
   "cell_type": "code",
   "execution_count": 21,
   "metadata": {},
   "outputs": [],
   "source": [
    "#plot squared end-to-end distance as function of time\n",
    "\n",
    "#convert array into numpy array and use short names\n",
    "t = np.array(list_of_times)\n",
    "y = np.array(list_of_sq_end_to_end_distances)\n",
    "\n",
    "#plot the results\n",
    "plt.plot(t, y, 'b.', label='data')\n",
    "plt.axhline(y=(Bonds*Kuhn_length_b**2),color='g', linestyle='--',label=('theory'))\n",
    "\n",
    "#write theoretical results into file\n",
    "results_dat.write(\"Squared end-to-end distance in eq.\"+\n",
    "                  \"(Bonds * Kuhn_length_b^2) = \"+\n",
    "                  str(Bonds*Kuhn_length_b**2)+\"\\n\\n\")\n",
    "\n",
    "#save the plot\n",
    "plt.legend(loc='best')\n",
    "plt.xlabel(r'$t$')\n",
    "plt.ylabel(r'$R^2(t)$')\n",
    "plt.draw()\n",
    "plt.savefig('sq_end_to_end_distance.png')\n",
    "plt.close()"
   ]
  },
  {
   "cell_type": "code",
   "execution_count": 22,
   "metadata": {},
   "outputs": [],
   "source": [
    "#plot squared motion of center of mass\n",
    "\n",
    "#covert arrays into numpy arrays and use short names (use t and y)\n",
    "t = np.array(list_of_times)\n",
    "y = np.array(list_of_sq_distance_of_cm)\n",
    "\n",
    "#define fit function; take independent variable as first argument\n",
    "def func_motion_of_cm(t, const_cm):\n",
    "    return const_cm*t\n",
    "\n",
    "#fit the curve using function, t-values and y-values; return: optimal parameters and covariances\n",
    "popt, pcov = curve_fit(func_motion_of_cm, t, y)\n",
    "\n",
    "#calculate standard deviation from estimated covariance\n",
    "perr = np.sqrt(np.diag(pcov))\n",
    "\n",
    "#calculate theoretical results\n",
    "const_cm_theory = 6*kT/gamma/Monomers\n",
    "\n",
    "#write theoretical and simulated results into file\n",
    "results_dat.write(\"motion of center of mass:\\n\"+\n",
    "                  \"6*kT/gamma/Monomers (theory) = \"\n",
    "                  +str(const_cm_theory)+\"\\n\"\n",
    "                  \n",
    "                  \"6*kT/gamma/Monomers (simulation) = \"\n",
    "                  +str(popt)+\" +/- \"\n",
    "                  +str(perr)+\"\\n\\n\")\n",
    "\n",
    "#plot the results\n",
    "plt.plot(t, y, 'b.', label='data')\n",
    "plt.plot(t, func_motion_of_cm(t, *popt), 'r-', label=('fit'))\n",
    "plt.plot(t, const_cm_theory*t, 'g--', label=('theory'))\n",
    "\n",
    "#save the plot\n",
    "plt.legend(loc='best')\n",
    "\n",
    "#set y range due to use of log-representation (otherwise y axis starts at extremely small values)\n",
    "plt.ylim(0.1, None)\n",
    "\n",
    "plt.xscale('log')\n",
    "plt.yscale('log')\n",
    "plt.xlabel(r'$t$')\n",
    "plt.ylabel(r'$\\sigma_{\\mathrm{cm}}^2(t)$')\n",
    "plt.draw()\n",
    "plt.savefig('sq_distance_of_cm.png')\n",
    "plt.close()"
   ]
  },
  {
   "cell_type": "code",
   "execution_count": 23,
   "metadata": {},
   "outputs": [],
   "source": [
    "#plot auto-correlation end-to-end vector as function of time\n",
    "\n",
    "#covert arrays into numpy arrays and use short names (full=all values)\n",
    "t = np.array(list_of_times)\n",
    "y = np.array(list_of_auto_corr_ee_vector)\n",
    "\n",
    "#find index of time array so that the corresponding time is close to rouse_time\n",
    "index_tau_rouse = (np.abs(t - tau_rouse_theory)).argmin()\n",
    "\n",
    "#use 'valid' points for fit (after relaxation time)\n",
    "t_valid = t[index_tau_rouse:]\n",
    "y_valid = y[index_tau_rouse:]\n",
    "\n",
    "#define fit function; take independent variable as first argument\n",
    "def func_auto_corr_ee_vec(t, const_auto_corr, inverse_tau_rouse):\n",
    "    \n",
    "    #use instead of 1/tau_rouse inverse_tau_rouse, otherwise fit fails\n",
    "    return const_auto_corr*np.exp(-t*inverse_tau_rouse)\n",
    "\n",
    "#fit the curve using function, t-values and y-values\n",
    "popt, pcov = curve_fit(func_auto_corr_ee_vec, t_valid, y_valid, [0, 0])\n",
    "\n",
    "#calculate standard deviation from estimated covariance\n",
    "perr = np.sqrt(np.diag(pcov))\n",
    "\n",
    "#write theoretical and simulated results into file\n",
    "results_dat.write(\"Attention: different offset due to different initial form of polymer!\"+\n",
    "                  \"motion of center of mass:\\n\"+\n",
    "\n",
    "                  \"rouse time (theory) = \"+str(tau_rouse_theory)+\"\\n\"+\n",
    "                  \n",
    "                  #Attention: rouse time = 1/inverse_tau_rouse\n",
    "                  \"rouse time (simulation) = \"+\n",
    "                  str(1/popt[1])+\" +/- \"+\n",
    "                  \n",
    "                  #Attention: Because of transformation of iverse tau rouse into tau_rouse\n",
    "                  #the error has to be transformed according to propagation of uncertainty\n",
    "                  str(math.sqrt((-1/popt[1]**2)**2)*perr[1])+\"\\n\\n\")\n",
    "\n",
    "#plot the results\n",
    "plt.plot(t, y, 'b.', label='data')\n",
    "plt.plot(t_valid, func_auto_corr_ee_vec(t_valid, *popt), 'r-', label=('fit'))\n",
    "#plt.plot(t, const_auto_corr*np.exp(-t/tau_rouse_theory), 'g--', label=('theory; offset depends on initial form of polymer'))\n",
    "\n",
    "#save plot\n",
    "plt.legend(loc='best')\n",
    "plt.xlabel(r'$t$')\n",
    "plt.yscale('log')\n",
    "plt.ylabel(r'$\\phi(t)$')\n",
    "plt.draw()\n",
    "plt.savefig('auto_corr_ee_vector.png')\n",
    "plt.close()"
   ]
  },
  {
   "cell_type": "code",
   "execution_count": 24,
   "metadata": {},
   "outputs": [],
   "source": [
    "#close file (where initial parameters and results were saved)\n",
    "results_dat.close()\n",
    "\n",
    "#go back to main directory with simulation codes\n",
    "os.chdir(\"../..\")"
   ]
  },
  {
   "cell_type": "code",
   "execution_count": null,
   "metadata": {},
   "outputs": [],
   "source": []
  },
  {
   "cell_type": "code",
   "execution_count": null,
   "metadata": {},
   "outputs": [],
   "source": []
  },
  {
   "cell_type": "code",
   "execution_count": null,
   "metadata": {},
   "outputs": [],
   "source": []
  }
 ],
 "metadata": {
  "kernelspec": {
   "display_name": "Python 3",
   "language": "python",
   "name": "python3"
  },
  "language_info": {
   "codemirror_mode": {
    "name": "ipython",
    "version": 3
   },
   "file_extension": ".py",
   "mimetype": "text/x-python",
   "name": "python",
   "nbconvert_exporter": "python",
   "pygments_lexer": "ipython3",
   "version": "3.7.4"
  }
 },
 "nbformat": 4,
 "nbformat_minor": 2
}
