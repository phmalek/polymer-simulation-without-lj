{
 "cells": [
  {
   "cell_type": "markdown",
   "metadata": {},
   "source": [
    "This program executes one simulation using initial parameters that were set in 'main_code.ipynb' and are saved and imported from 'initial_parameters.py'."
   ]
  },
  {
   "cell_type": "markdown",
   "metadata": {},
   "source": [
    "# Import libraries"
   ]
  },
  {
   "cell_type": "code",
   "execution_count": 1,
   "metadata": {},
   "outputs": [],
   "source": [
    "#import hoomd that ist saved on computer\n",
    "import sys\n",
    "sys.path.append(\"/net/theorie/home/niklas.butkevich/miniconda2/envs/py3/lib/python3.7/site-packages\")\n",
    "import hoomd\n",
    "import hoomd.md\n",
    "\n",
    "import numpy as np\n",
    "import math\n",
    "import os\n",
    "\n",
    "#import file with initial parameters\n",
    "import initial_parameters"
   ]
  },
  {
   "cell_type": "markdown",
   "metadata": {},
   "source": [
    "# Initialize the system"
   ]
  },
  {
   "cell_type": "code",
   "execution_count": 2,
   "metadata": {},
   "outputs": [
    {
     "name": "stdout",
     "output_type": "stream",
     "text": [
      "HOOMD-blue 2.6.0 DOUBLE HPMC_MIXED TBB SSE SSE2 SSE3 \n",
      "Compiled: 05/29/2019\n",
      "Copyright (c) 2009-2019 The Regents of the University of Michigan.\n",
      "-----\n",
      "You are using HOOMD-blue. Please cite the following:\n",
      "* J A Anderson, C D Lorenz, and A Travesset. \"General purpose molecular dynamics\n",
      "  simulations fully implemented on graphics processing units\", Journal of\n",
      "  Computational Physics 227 (2008) 5342--5359\n",
      "* J Glaser, T D Nguyen, J A Anderson, P Liu, F Spiga, J A Millan, D C Morse, and\n",
      "  S C Glotzer. \"Strong scaling of general-purpose molecular dynamics simulations\n",
      "  on GPUs\", Computer Physics Communications 192 (2015) 97--107\n",
      "-----\n",
      "HOOMD-blue is running on the CPU\n"
     ]
    },
    {
     "data": {
      "text/plain": [
       "<hoomd.context.SimulationContext at 0x7fa7441a4dd0>"
      ]
     },
     "execution_count": 2,
     "metadata": {},
     "output_type": "execute_result"
    }
   ],
   "source": [
    "hoomd.context.initialize(\"\")"
   ]
  },
  {
   "cell_type": "markdown",
   "metadata": {},
   "source": [
    "# Define the parameters (that were set in 'main_code.ipynb')"
   ]
  },
  {
   "cell_type": "code",
   "execution_count": 3,
   "metadata": {},
   "outputs": [],
   "source": [
    "#define number of polymers segments (monomers)\n",
    "Monomers = initial_parameters.Monomers\n",
    "\n",
    "#define number of bonds between segments\n",
    "Bonds = initial_parameters.Bonds\n",
    "\n",
    "#define spring constant (Rouse model) for bonds between segments in units energy/distance^2\n",
    "k = initial_parameters.k\n",
    "\n",
    "#define number of passive particles\n",
    "n_passive_particles = initial_parameters.n_passive_particles\n",
    "\n",
    "#define number of active particles\n",
    "n_active_particles = initial_parameters.n_active_particles\n",
    "\n",
    "#define drag-coefficient constant gamma\n",
    "gamma = initial_parameters.gamma\n",
    "\n",
    "#define rest distance between segments\n",
    "r0 = initial_parameters.r0\n",
    "\n",
    "#define temperature in units of kT\n",
    "kT = initial_parameters.kT\n",
    "\n",
    "#define integration step time\n",
    "dt = initial_parameters.dt\n",
    "\n",
    "#define number of integration steps\n",
    "integration_steps = initial_parameters.integration_steps\n",
    "\n",
    "#define number of points for graphical representation (number of callbacks)\n",
    "number_of_points = initial_parameters.number_of_points\n",
    "\n",
    "#define period for analysing of quantities (write them in data file)\n",
    "return_period = integration_steps/number_of_points"
   ]
  },
  {
   "cell_type": "code",
   "execution_count": 4,
   "metadata": {},
   "outputs": [],
   "source": [
    "#set epsilon and sigma for Lennard_jones potential between different particles\n",
    "lj_epsilon_AA = initial_parameters.lj_epsilon_AA\n",
    "lj_sigma_AA = initial_parameters.lj_sigma_AA\n",
    "lj_epsilon_AB = initial_parameters.lj_epsilon_AB\n",
    "lj_sigma_AB = initial_parameters.lj_sigma_AB\n",
    "lj_epsilon_BB = initial_parameters.lj_epsilon_BB\n",
    "lj_sigma_BB = initial_parameters.lj_sigma_BB\n",
    "\n",
    "#set cut-off radius for potential between two particles\n",
    "r_cut = initial_parameters.r_cut"
   ]
  },
  {
   "cell_type": "markdown",
   "metadata": {},
   "source": [
    "# Create box with particles"
   ]
  },
  {
   "cell_type": "markdown",
   "metadata": {},
   "source": [
    "Attention: Box has to be large, otherwise - if polmer is outside the box it appears on the opposite side - the end-to-end-values and other position parameters are calculated in a wrong way."
   ]
  },
  {
   "cell_type": "code",
   "execution_count": 5,
   "metadata": {},
   "outputs": [],
   "source": [
    "#define box dimensions\n",
    "Lx = 10 * Monomers\n",
    "Ly = 10 * Monomers\n",
    "Lz = 10 * Monomers\n",
    "\n",
    "#define the system as snapshot\n",
    "snapshot = hoomd.data.make_snapshot(N = Monomers + n_passive_particles,\n",
    "                                    \n",
    "                                    #box-dimension: x-direction: -Lx/2 to Lx/2 etc.\n",
    "                                    box=hoomd.data.boxdim(Lx=Lx, Ly=Ly, Lz=Lz),\n",
    "                                    \n",
    "                                    #list of types; typeid[0]='A', typeid[1]='B', etc.\n",
    "                                    particle_types=['A','B'],\n",
    "                                    bond_types=['polymer'])"
   ]
  },
  {
   "cell_type": "markdown",
   "metadata": {},
   "source": [
    "# Set ID's positions and bonds for monomers/particles"
   ]
  },
  {
   "cell_type": "code",
   "execution_count": 6,
   "metadata": {},
   "outputs": [],
   "source": [
    "#create list to set monomer's/particle's initial type-IDs, positions, bonds\n",
    "initial_IDs = []\n",
    "initial_positions = []\n",
    "initial_bonds= []\n",
    "\n",
    "#define initial quantities\n",
    "initial_position_of_cm_x = 0\n",
    "initial_position_of_cm_y = 0\n",
    "initial_position_of_cm_z = 0\n",
    "\n",
    "#set initial monomer positions and IDs\n",
    "for monomer in range(Monomers):\n",
    "    initial_IDs.append(0)\n",
    "    initial_positions.append([monomer - (Monomers/2) + 0.5, 0, 0])\n",
    "    \n",
    "    #calculate initial distance of center of mass from origin\n",
    "    initial_position_of_cm_x += (initial_positions[monomer][0] / Monomers)\n",
    "    initial_position_of_cm_y += (initial_positions[monomer][1] / Monomers)\n",
    "    initial_position_of_cm_z += (initial_positions[monomer][2] / Monomers)\n",
    "    \n",
    "initial_position_of_cm = [initial_position_of_cm_x,\n",
    "                          initial_position_of_cm_y,\n",
    "                          initial_position_of_cm_z]\n",
    "\n",
    "initial_end_to_end_vector = [initial_positions[Monomers-1][0]-initial_positions[0][0],\n",
    "                             initial_positions[Monomers-1][1]-initial_positions[0][1],\n",
    "                             initial_positions[Monomers-1][2]-initial_positions[0][2]]\n",
    "    \n",
    "for bond in range(Monomers-1):\n",
    "    initial_bonds.append([bond, bond+1])\n",
    "    \n",
    "#resize the bonds list to actual number of bonds\n",
    "snapshot.bonds.resize(Monomers-1)\n",
    "\n",
    "#set initial passive particle positions and IDs\n",
    "for passive_particle in range(n_passive_particles):\n",
    "    initial_IDs.append(1)\n",
    "    initial_positions.append([passive_particle - (n_passive_particles/2) + 0.5, 1, 0])\n",
    "    \n",
    "#copy IDs, positions and bonds into valid arrays\n",
    "snapshot.particles.typeid[:] = initial_IDs\n",
    "snapshot.particles.position[:] = initial_positions\n",
    "snapshot.bonds.group[:] = initial_bonds"
   ]
  },
  {
   "cell_type": "markdown",
   "metadata": {},
   "source": [
    "# Initialization of integration parameters"
   ]
  },
  {
   "cell_type": "code",
   "execution_count": 7,
   "metadata": {},
   "outputs": [
    {
     "name": "stdout",
     "output_type": "stream",
     "text": [
      "notice(2): Group \"all\" created containing 50 particles\n"
     ]
    },
    {
     "data": {
      "text/plain": [
       "'hoomd.dump.gsd(\"results/\"+str(initial_parameters.current_datetime)+\\n               \"/trajectory.gsd\",\\n               \\n               #return_period = number of points in plots\\n               period=return_period,\\n               group=all, overwrite=True)'"
      ]
     },
     "execution_count": 7,
     "metadata": {},
     "output_type": "execute_result"
    }
   ],
   "source": [
    "#initialize HOOMD using snapshot\n",
    "system = hoomd.init.read_snapshot(snapshot)\n",
    "\n",
    "#set the bond type and strength between monomers\n",
    "harmonic = hoomd.md.bond.harmonic()\n",
    "harmonic.bond_coeff.set('polymer', k=k, r0=r0)\n",
    "\n",
    "#consider every particle\n",
    "all = hoomd.group.all()\n",
    "\n",
    "#safe the trajectory in 'results/datetime' to\n",
    "#display in a visualisation program\n",
    "\n",
    "hoomd.dump.gsd(\"results/\"+str(initial_parameters.current_datetime)+\n",
    "               \"/trajectory.gsd\",\n",
    "               \n",
    "               #return_period = number of points in plots\n",
    "               period=return_period,\n",
    "               group=all, overwrite=True)\"\"\""
   ]
  },
  {
   "cell_type": "markdown",
   "metadata": {},
   "source": [
    "# Set integrator and  parameters"
   ]
  },
  {
   "cell_type": "code",
   "execution_count": 8,
   "metadata": {},
   "outputs": [
    {
     "name": "stdout",
     "output_type": "stream",
     "text": [
      "notice(2): integrate.langevin/bd is using specified gamma values\n"
     ]
    }
   ],
   "source": [
    "#integrator\n",
    "hoomd.md.integrate.mode_standard(dt=dt)\n",
    "integrator = hoomd.md.integrate.brownian(group=all, kT=kT, dscale=False,\n",
    "                                         seed=np.random.randint(0,9999))\n",
    "\n",
    "\n",
    "#set gamma (friction constant); ATTENTION: set after integrator is set!\n",
    "integrator.set_gamma('A', gamma=gamma)\n"
   ]
  },
  {
   "cell_type": "markdown",
   "metadata": {},
   "source": [
    "# Load summen quantities that were calculated earlier"
   ]
  },
  {
   "cell_type": "code",
   "execution_count": 9,
   "metadata": {},
   "outputs": [],
   "source": [
    "#open quantities file\n",
    "quantities_file = open('quantities.dat','r')\n",
    "\n",
    "#load all lines, begin with second line (1.line is description)\n",
    "#now, 'quantities.dat'-file can be overwritten in the run process\n",
    "all_lines = quantities_file.readlines()[1:]\n",
    "\n",
    "#close file\n",
    "quantities_file.close()"
   ]
  },
  {
   "cell_type": "markdown",
   "metadata": {},
   "source": [
    "# Create classes to compute quantities"
   ]
  },
  {
   "cell_type": "markdown",
   "metadata": {},
   "source": [
    "Note: For every run of THIS entire code ('run_polymer_simulation_once.ipynb') the current values for quantities are added to values calculated earlier. The division by the number of execution of THIS file is done by the 'main_code.ipynb'."
   ]
  },
  {
   "cell_type": "code",
   "execution_count": 10,
   "metadata": {},
   "outputs": [],
   "source": [
    "#create class for end-to-end distance\n",
    "class Sq_end_to_end_distance:\n",
    "    \n",
    "    def __init__(self, system):\n",
    "        \n",
    "        self.system = system\n",
    "        \n",
    "    def __call__(self, timestep):\n",
    "        \n",
    "        snapshot = self.system.take_snapshot()\n",
    "        \n",
    "        old_sq_end_to_end_distance = float(all_lines[int(timestep/return_period)].split('\t')[1])\n",
    "        \n",
    "        #define positions of first and last monomer\n",
    "        m_first = snapshot.particles.position[0]\n",
    "        m_last = snapshot.particles.position[-1]\n",
    "        \n",
    "        #define positions of first and last monomer\n",
    "        current_sq_end_to_end_distance = ((m_last[0]-m_first[0])**2 +\n",
    "                                          (m_last[1]-m_first[1])**2 +\n",
    "                                          (m_last[2]-m_first[2])**2)\n",
    "        \n",
    "        #add current sq_end_to_end_distance\n",
    "        summed_sq_end_to_end_distance = old_sq_end_to_end_distance + current_sq_end_to_end_distance\n",
    "        \n",
    "        #return summed end-to-end distance\n",
    "        return (summed_sq_end_to_end_distance)"
   ]
  },
  {
   "cell_type": "code",
   "execution_count": 11,
   "metadata": {},
   "outputs": [],
   "source": [
    "#create class for distance of centre of mass from origin\n",
    "class Sq_distance_of_cm:\n",
    "    \n",
    "    def __init__(self, system):\n",
    "        \n",
    "        self.system = system\n",
    "        \n",
    "    def __call__(self, timestep):\n",
    "        \n",
    "        snapshot = self.system.take_snapshot()\n",
    "        \n",
    "        #old distance of centre of mass from origin (regarding to certain time step)\n",
    "        old_sq_distance_of_cm = float(all_lines[int(timestep/return_period)].split('\t')[2])\n",
    "        \n",
    "        #define lists of x,y and z positions of monomers\n",
    "        list_of_x_positions = []\n",
    "        list_of_y_positions = []\n",
    "        list_of_z_positions = []\n",
    "        \n",
    "        #compute current position of centre of mass (the average is done by other Python-program)\n",
    "        for monomers in range(Monomers):\n",
    "            \n",
    "            list_of_x_positions.append(snapshot.particles.position[monomers][0])\n",
    "            list_of_y_positions.append(snapshot.particles.position[monomers][1])\n",
    "            list_of_z_positions.append(snapshot.particles.position[monomers][2])\n",
    "            \n",
    "        current_position_of_cm = [np.mean(list_of_x_positions),\n",
    "                                  np.mean(list_of_y_positions),\n",
    "                                  np.mean(list_of_z_positions)]\n",
    "        \n",
    "        #the initial position of centre mass is [0,0,0], therefore the distance to this origin\n",
    "        #can be calculated in a trivial way\n",
    "        \n",
    "        current_sq_distance_of_cm = ((current_position_of_cm[0]-initial_position_of_cm[0])**2 +\n",
    "                                     (current_position_of_cm[1]-initial_position_of_cm[1])**2 +\n",
    "                                     (current_position_of_cm[2]-initial_position_of_cm[2])**2)\n",
    "        \n",
    "        summed_sq_distance_of_cm = old_sq_distance_of_cm + current_sq_distance_of_cm\n",
    "        \n",
    "        return (summed_sq_distance_of_cm)"
   ]
  },
  {
   "cell_type": "code",
   "execution_count": 12,
   "metadata": {},
   "outputs": [],
   "source": [
    "#create class for auto correlation of end-to-end distance vector\n",
    "class Auto_corr_ee_vector:\n",
    "    \n",
    "    def __init__(self, system):\n",
    "        \n",
    "        self.system = system\n",
    "        \n",
    "    def __call__(self, timestep):\n",
    "        \n",
    "        snapshot = self.system.take_snapshot()\n",
    "        \n",
    "        old_auto_corr_ee_vector = float(all_lines[int(timestep/return_period)].split('\t')[3])\n",
    "        \n",
    "        end_to_end_vector_of_t = [(snapshot.particles.position[-1][0] -\n",
    "                                   snapshot.particles.position[0][0]),\n",
    "                                  \n",
    "                                  (snapshot.particles.position[-1][1] -\n",
    "                                   snapshot.particles.position[0][1]),\n",
    "                                  \n",
    "                                  (snapshot.particles.position[-1][2] -\n",
    "                                   snapshot.particles.position[0][2])]\n",
    "        \n",
    "        auto_corr_ee_vector = (end_to_end_vector_of_t[0] * initial_end_to_end_vector[0] +\n",
    "                               end_to_end_vector_of_t[1] * initial_end_to_end_vector[1] +\n",
    "                               end_to_end_vector_of_t[2] * initial_end_to_end_vector[2])\n",
    "        \n",
    "        summed_auto_corr_ee_vector = old_auto_corr_ee_vector + auto_corr_ee_vector\n",
    "        \n",
    "        return (summed_auto_corr_ee_vector)"
   ]
  },
  {
   "cell_type": "markdown",
   "metadata": {},
   "source": [
    "# Create instances for classes and log the quantities"
   ]
  },
  {
   "cell_type": "code",
   "execution_count": 13,
   "metadata": {},
   "outputs": [],
   "source": [
    "instance_sq_end_to_end_distance = Sq_end_to_end_distance(system)\n",
    "instance_sq_distance_of_cm      = Sq_distance_of_cm(system)\n",
    "instance_auto_corr_ee_vector    = Auto_corr_ee_vector(system)\n",
    "\n",
    "#use analyze.log to write quantities of simulation into a text file\n",
    "logger = hoomd.analyze.log(filename='quantities.dat',\n",
    "                           quantities=['summed_sq_end_to_end_distance',\n",
    "                                       'summed_sq_distance_of_cm',\n",
    "                                       'summed_auto_corr_ee_vector'],\n",
    "                           \n",
    "                           #return and write to file\n",
    "                           period = return_period,\n",
    "                           header_prefix='#',\n",
    "                           overwrite=True)\n",
    "\n",
    "#create a new quantity that is logged due to expression above to a text file\n",
    "logger.register_callback(('summed_sq_end_to_end_distance'), instance_sq_end_to_end_distance)\n",
    "logger.register_callback(('summed_sq_distance_of_cm'), instance_sq_distance_of_cm)\n",
    "logger.register_callback(('summed_auto_corr_ee_vector'), instance_auto_corr_ee_vector)"
   ]
  },
  {
   "cell_type": "markdown",
   "metadata": {},
   "source": [
    "# Run the simulation"
   ]
  },
  {
   "cell_type": "code",
   "execution_count": 14,
   "metadata": {},
   "outputs": [
    {
     "name": "stdout",
     "output_type": "stream",
     "text": [
      "** starting run **\n",
      "Time 00:00:02 | Step 100000 / 100000 | TPS 39454.5 | ETA 00:00:00\n",
      "Average TPS: 39448.8\n",
      "---------\n",
      "** run complete **\n"
     ]
    }
   ],
   "source": [
    "hoomd.run(integration_steps)"
   ]
  },
  {
   "cell_type": "code",
   "execution_count": null,
   "metadata": {},
   "outputs": [],
   "source": []
  },
  {
   "cell_type": "code",
   "execution_count": null,
   "metadata": {},
   "outputs": [],
   "source": []
  }
 ],
 "metadata": {
  "kernelspec": {
   "display_name": "Python 3",
   "language": "python",
   "name": "python3"
  },
  "language_info": {
   "codemirror_mode": {
    "name": "ipython",
    "version": 3
   },
   "file_extension": ".py",
   "mimetype": "text/x-python",
   "name": "python",
   "nbconvert_exporter": "python",
   "pygments_lexer": "ipython3",
   "version": "3.7.4"
  }
 },
 "nbformat": 4,
 "nbformat_minor": 2
}
